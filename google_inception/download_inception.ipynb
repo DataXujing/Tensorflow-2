{
 "cells": [
  {
   "cell_type": "code",
   "execution_count": 1,
   "metadata": {},
   "outputs": [
    {
     "name": "stdout",
     "output_type": "stream",
     "text": [
      "file name: inception-2015-12-05.tgz\n",
      "file path: inception_model\\inception-2015-12-05.tgz\n"
     ]
    }
   ],
   "source": [
    "import tensorflow as tf\n",
    "import os\n",
    "import tarfile\n",
    "import requests\n",
    "\n",
    "#download address\n",
    "inception_pretrain_model_url = 'http://download.tensorflow.org/models/image/imagenet/inception-2015-12-05.tgz'\n",
    "\n",
    "#save the model\n",
    "inception_pretrain_model_dir = \"inception_model\"\n",
    "if not os.path.exists(inception_pretrain_model_dir):\n",
    "    os.makedirs(inception_pretrain_model_dir)\n",
    "    \n",
    "#get file name, file path\n",
    "file_name = inception_pretrain_model_url.split('/')[-1]\n",
    "file_path = os.path.join(inception_pretrain_model_dir, file_name)\n",
    "\n",
    "print(\"file name:\",file_name)\n",
    "print(\"file path:\",file_path)"
   ]
  },
  {
   "cell_type": "code",
   "execution_count": 2,
   "metadata": {},
   "outputs": [
    {
     "name": "stdout",
     "output_type": "stream",
     "text": [
      "finish downlad\n"
     ]
    }
   ],
   "source": [
    "#download model\n",
    "if not os.path.exists(file_path):\n",
    "    print(\"download: \", file_name)\n",
    "    r = requests.get(inception_pretrain_model_url, stream=True)\n",
    "    with open(file_path, 'wb') as f:\n",
    "        for chunk in r.iter_content(chunk_size=1024):\n",
    "            if chunk:\n",
    "                f.write(chunk)\n",
    "print(\"finish downlad\")\n",
    "\n",
    "#unzip the model\n",
    "tarfile.open(file_path, 'r:gz').extractall(inception_pretrain_model_dir)"
   ]
  },
  {
   "cell_type": "code",
   "execution_count": 3,
   "metadata": {
    "collapsed": true
   },
   "outputs": [],
   "source": [
    "# save log in order to visulaize in tensorboard\n",
    "log_dir = 'inception_log'\n",
    "if not os.path.exists(log_dir):\n",
    "    os.makedirs(log_dir)\n",
    "    \n",
    "#classify_image_graph_def.pb is the trained model\n",
    "inception_graph_def_file = os.path.join(inception_pretrain_model_dir, 'classify_image_graph_def.pb')\n",
    "with tf.Session() as sess:\n",
    "    with tf.gfile.FastGFile(inception_graph_def_file, 'rb') as f:\n",
    "        graph_def = tf.GraphDef()\n",
    "        graph_def.ParseFromString(f.read())\n",
    "        tf.import_graph_def(graph_def, name='')\n",
    "    #save the log\n",
    "    writer = tf.summary.FileWriter(log_dir, sess.graph)\n",
    "    writer.close()"
   ]
  },
  {
   "cell_type": "code",
   "execution_count": null,
   "metadata": {
    "collapsed": true
   },
   "outputs": [],
   "source": []
  }
 ],
 "metadata": {
  "kernelspec": {
   "display_name": "Python 3",
   "language": "python",
   "name": "python3"
  },
  "language_info": {
   "codemirror_mode": {
    "name": "ipython",
    "version": 3
   },
   "file_extension": ".py",
   "mimetype": "text/x-python",
   "name": "python",
   "nbconvert_exporter": "python",
   "pygments_lexer": "ipython3",
   "version": "3.5.4"
  }
 },
 "nbformat": 4,
 "nbformat_minor": 2
}
