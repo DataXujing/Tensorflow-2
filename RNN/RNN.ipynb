{
 "cells": [
  {
   "cell_type": "code",
   "execution_count": 1,
   "metadata": {
    "collapsed": true
   },
   "outputs": [],
   "source": [
    "import tensorflow as tf\n",
    "import pandas as pd\n",
    "import numpy as np\n",
    "import time\n",
    "#define functions we need\n",
    "def weight_variable(shape):\n",
    "    initial = tf.truncated_normal(shape,stddev=0.1)\n",
    "    return tf.Variable(initial)\n",
    "\n",
    "def bias_variable(shape):\n",
    "    initial = tf.zeros(shape)+0.1\n",
    "    return tf.Variable(initial)\n",
    "\n",
    "def next_batch(round_num,sample_num,data):\n",
    "    total_batch = len(data)//sample_num\n",
    "    round_num = round_num % total_batch\n",
    "    return data[sample_num*round_num:sample_num*(round_num+1)]\n",
    "\n",
    "def array_to_one_hot(all_lables,lables):\n",
    "    # input lable is list\n",
    "    new_lable =  [] \n",
    "    for i in all_lables:\n",
    "        single_lable = [0] * len(lables)\n",
    "        index = lables.index(i)\n",
    "        single_lable[index] = 1\n",
    "        new_lable.append(single_lable)\n",
    "    return np.array(new_lable)\n",
    "\n",
    "def fake_label_to_real_label_array(fake_label, labels):\n",
    "    real_label_array = []\n",
    "    for i in fake_label:\n",
    "        real_label_array.append(labels[i])\n",
    "    return np.array(real_label_array)"
   ]
  },
  {
   "cell_type": "code",
   "execution_count": 3,
   "metadata": {},
   "outputs": [
    {
     "name": "stdout",
     "output_type": "stream",
     "text": [
      "train: (40000, 785)\n",
      "test: (8000, 785)\n"
     ]
    }
   ],
   "source": [
    "# load data\n",
    "train = pd.read_csv(\"mnist_train.csv\")\n",
    "test = pd.read_csv(\"mnist_test.csv\")\n",
    "\n",
    "train = train.sample(frac=1).reset_index(drop=True)\n",
    "\n",
    "feature_name = train.columns[1:] \n",
    "label_name = train.columns[0] #put the class label on the first column\n",
    "\n",
    "train_feature = train[feature_name].as_matrix()\n",
    "test_feature = test[feature_name].as_matrix()\n",
    "\n",
    "labels = sorted(set(train[label_name].tolist()))\n",
    "\n",
    "train_label_one_hot = array_to_one_hot(train[label_name].tolist(),labels) #tensorflow must use one-hot form\n",
    "test_label_one_hot = array_to_one_hot(test[label_name].tolist(),labels)\n",
    "\n",
    "train_label_array = np.array(train[label_name])\n",
    "test_label_array = np.array(test[label_name])\n",
    "\n",
    "print(\"train:\",train.shape)\n",
    "print(\"test:\",test.shape)"
   ]
  },
  {
   "cell_type": "code",
   "execution_count": 4,
   "metadata": {
    "collapsed": true
   },
   "outputs": [],
   "source": [
    "# difine parameters\n",
    "# imput image is 28*28\n",
    "n_inputs = 28\n",
    "max_time = 28 #28 lines in total\n",
    "lstm_size = 100\n",
    "n_classes = 10\n",
    "batch_size = 100\n",
    "learning_period = 10\n",
    "learning_rate = 5*1e-4 \n",
    "n_batch = len(train) // batch_size #计算一共有多少个批次"
   ]
  },
  {
   "cell_type": "code",
   "execution_count": 5,
   "metadata": {
    "collapsed": true
   },
   "outputs": [],
   "source": [
    "# build network\n",
    "x = tf.placeholder(tf.float32,[None,784])\n",
    "y = tf.placeholder(tf.float32,[None,10])\n",
    "\n",
    "# initial weight and bias\n",
    "weights = weight_variable([lstm_size, n_classes])\n",
    "biases = bias_variable([n_classes])\n",
    "#定义RNN网络\n",
    "# inputs=[batch_size, max_time, n_inputs]\n",
    "inputs = tf.reshape(x,[-1,max_time,n_inputs])\n",
    "#定义LSTM基本CELL\n",
    "lstm_cell = tf.nn.rnn_cell.BasicLSTMCell(lstm_size)\n",
    "# final_state[0]是cell state\n",
    "# final_state[1]是hidden_state\n",
    "outputs,final_state = tf.nn.dynamic_rnn(lstm_cell,inputs,dtype=tf.float32)\n",
    "prediction = tf.nn.softmax(tf.matmul(final_state[1],weights) + biases)    \n",
    "    \n",
    "#计算RNN的返回结果\n",
    "#损失函数\n",
    "cross_entropy = tf.reduce_mean(tf.nn.softmax_cross_entropy_with_logits(logits=prediction,labels=y))\n",
    "#使用AdamOptimizer进行优化\n",
    "train_step = tf.train.AdamOptimizer(learning_rate).minimize(cross_entropy)\n",
    "#结果存放在一个布尔型列表中\n",
    "correct_prediction = tf.equal(tf.argmax(y,1),tf.argmax(prediction,1))#argmax返回一维张量中最大的值所在的位置\n",
    "#求准确率\n",
    "accuracy = tf.reduce_mean(tf.cast(correct_prediction,tf.float32))#把correct_prediction变为float32类型"
   ]
  },
  {
   "cell_type": "code",
   "execution_count": 6,
   "metadata": {},
   "outputs": [
    {
     "name": "stdout",
     "output_type": "stream",
     "text": [
      "period 0 train: 0.832924 test: 0.831375\n",
      "period 1 train: 0.909324 test: 0.908625\n",
      "period 2 train: 0.930199 test: 0.9255\n",
      "period 3 train: 0.935399 test: 0.93075\n",
      "period 4 train: 0.950499 test: 0.947125\n",
      "period 5 train: 0.952649 test: 0.948375\n",
      "period 6 train: 0.954974 test: 0.95225\n",
      "period 7 train: 0.962499 test: 0.961\n",
      "period 8 train: 0.962849 test: 0.95925\n",
      "period 9 train: 0.967474 test: 0.96575\n",
      "total time is: 42.910764932632446\n"
     ]
    }
   ],
   "source": [
    "#run the network\n",
    "#初始化\n",
    "init = tf.global_variables_initializer()\n",
    "time_0 = time.time()\n",
    "with tf.Session() as sess:\n",
    "    sess.run(init)\n",
    "    for epoch in range(learning_period):\n",
    "        for k in range(n_batch):\n",
    "            batch_x = next_batch(k,batch_size,train_feature)\n",
    "            batch_y = next_batch(k,batch_size,train_label_one_hot)\n",
    "            sess.run(train_step,feed_dict={x:batch_x,y:batch_y})\n",
    "        \n",
    "        train_acc = sess.run(accuracy,feed_dict={x:train_feature,y:train_label_one_hot})\n",
    "        test_acc = sess.run(accuracy,feed_dict={x:test_feature,y:test_label_one_hot})\n",
    "        print (\"period %d\"%epoch,\"train:\",train_acc, \"test:\",test_acc)\n",
    "print(\"total time is:\",time.time()-time_0)"
   ]
  },
  {
   "cell_type": "code",
   "execution_count": null,
   "metadata": {
    "collapsed": true
   },
   "outputs": [],
   "source": []
  },
  {
   "cell_type": "code",
   "execution_count": null,
   "metadata": {
    "collapsed": true
   },
   "outputs": [],
   "source": []
  }
 ],
 "metadata": {
  "kernelspec": {
   "display_name": "Python 3",
   "language": "python",
   "name": "python3"
  },
  "language_info": {
   "codemirror_mode": {
    "name": "ipython",
    "version": 3
   },
   "file_extension": ".py",
   "mimetype": "text/x-python",
   "name": "python",
   "nbconvert_exporter": "python",
   "pygments_lexer": "ipython3",
   "version": "3.5.4"
  }
 },
 "nbformat": 4,
 "nbformat_minor": 2
}
